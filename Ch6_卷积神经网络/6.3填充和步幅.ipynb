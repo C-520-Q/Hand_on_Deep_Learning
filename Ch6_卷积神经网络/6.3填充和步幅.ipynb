{
 "cells": [
  {
   "cell_type": "markdown",
   "source": [
    "## 6.3.1填充"
   ],
   "metadata": {
    "collapsed": false
   },
   "id": "91aad7a6fe87c701"
  },
  {
   "cell_type": "code",
   "outputs": [
    {
     "data": {
      "text/plain": "(3, 3)"
     },
     "execution_count": 5,
     "metadata": {},
     "output_type": "execute_result"
    }
   ],
   "source": [
    "import torch\n",
    "from torch import nn\n",
    "\n",
    "# 为方便起见，定义一个计算卷积的函数\n",
    "# 此函数初始化卷积层权重，并对输入和输出扩大和缩减相应的维数\n",
    "def comp_conv2d(conv2d,X):\n",
    "    # (1,1)表示批量大小和通道数都是1\n",
    "    X=X.reshape((1,1)+X.shape)\n",
    "    Y=conv2d(X)\n",
    "    # 省略前两个维度：批量大小和通道\n",
    "    return Y.reshape(Y.shape[2:])\n",
    "\n",
    "# 每侧边都填充了1行或1列，因此总共添加了2行或2列\n",
    "conv2d=nn.Conv2d(1,1,kernel_size=3,padding=1)\n",
    "X=torch.rand(size=(8,8))\n",
    "comp_conv2d(conv2d,X).shape"
   ],
   "metadata": {
    "collapsed": false,
    "ExecuteTime": {
     "end_time": "2024-10-18T14:54:47.419121Z",
     "start_time": "2024-10-18T14:54:47.409151600Z"
    }
   },
   "id": "e009cc6ca2a054fe",
   "execution_count": 5
  },
  {
   "cell_type": "markdown",
   "source": [
    "## 6.3.2步幅"
   ],
   "metadata": {
    "collapsed": false
   },
   "id": "e2b9226f9144f3b5"
  },
  {
   "cell_type": "code",
   "outputs": [
    {
     "data": {
      "text/plain": "torch.Size([4, 4])"
     },
     "execution_count": 6,
     "metadata": {},
     "output_type": "execute_result"
    }
   ],
   "source": [
    "conv2d=nn.Conv2d(1,1,kernel_size=3,padding=1,stride=2)\n",
    "comp_conv2d(conv2d,X).shape"
   ],
   "metadata": {
    "collapsed": false,
    "ExecuteTime": {
     "end_time": "2024-10-18T15:13:45.637270300Z",
     "start_time": "2024-10-18T15:13:45.597120300Z"
    }
   },
   "id": "5ff696c55fedcf5c",
   "execution_count": 6
  },
  {
   "cell_type": "code",
   "outputs": [
    {
     "data": {
      "text/plain": "torch.Size([2, 2])"
     },
     "execution_count": 7,
     "metadata": {},
     "output_type": "execute_result"
    }
   ],
   "source": [
    "conv2d=nn.Conv2d(1,1,kernel_size=(3,5),padding=(0,1),stride=(3,4))\n",
    "comp_conv2d(conv2d,X).shape"
   ],
   "metadata": {
    "collapsed": false,
    "ExecuteTime": {
     "end_time": "2024-10-18T15:15:09.683242300Z",
     "start_time": "2024-10-18T15:15:09.652615200Z"
    }
   },
   "id": "c820d73c00736b7",
   "execution_count": 7
  }
 ],
 "metadata": {
  "kernelspec": {
   "display_name": "Python 3",
   "language": "python",
   "name": "python3"
  },
  "language_info": {
   "codemirror_mode": {
    "name": "ipython",
    "version": 2
   },
   "file_extension": ".py",
   "mimetype": "text/x-python",
   "name": "python",
   "nbconvert_exporter": "python",
   "pygments_lexer": "ipython2",
   "version": "2.7.6"
  }
 },
 "nbformat": 4,
 "nbformat_minor": 5
}
