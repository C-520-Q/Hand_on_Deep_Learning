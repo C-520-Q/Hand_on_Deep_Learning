{
 "cells": [
  {
   "cell_type": "markdown",
   "source": [
    "## 6.4.1多输入通道"
   ],
   "metadata": {
    "collapsed": false
   },
   "id": "c8fc62d974d4820b"
  },
  {
   "cell_type": "code",
   "outputs": [],
   "source": [
    "import torch\n",
    "from d2l import torch as d2l\n",
    "\n",
    "def corr2d_multi_in(X,K):\n",
    "    # 先遍历\"X\"和\"K\"的第0个维度(通道维度)，再把它们加在一起\n",
    "    return sum(d2l.corr2d(x,k) for x,k in zip(X,K))"
   ],
   "metadata": {
    "collapsed": false,
    "ExecuteTime": {
     "end_time": "2024-10-19T02:28:11.797340700Z",
     "start_time": "2024-10-19T02:28:05.724351400Z"
    }
   },
   "id": "1572b8dcfaeec12d",
   "execution_count": 1
  },
  {
   "cell_type": "code",
   "outputs": [
    {
     "data": {
      "text/plain": "tensor([[ 56.,  72.],\n        [104., 120.]])"
     },
     "execution_count": 2,
     "metadata": {},
     "output_type": "execute_result"
    }
   ],
   "source": [
    "X = torch.tensor([[[0.0, 1.0, 2.0], [3.0, 4.0, 5.0], [6.0, 7.0, 8.0]],\n",
    "               [[1.0, 2.0, 3.0], [4.0, 5.0, 6.0], [7.0, 8.0, 9.0]]])\n",
    "K = torch.tensor([[[0.0, 1.0], [2.0, 3.0]], [[1.0, 2.0], [3.0, 4.0]]])\n",
    "\n",
    "corr2d_multi_in(X, K)"
   ],
   "metadata": {
    "collapsed": false,
    "ExecuteTime": {
     "end_time": "2024-10-19T02:28:11.817276700Z",
     "start_time": "2024-10-19T02:28:11.799333900Z"
    }
   },
   "id": "4cd7f164267c9e5c",
   "execution_count": 2
  },
  {
   "cell_type": "markdown",
   "source": [
    "## 6.4.2多输出通道"
   ],
   "metadata": {
    "collapsed": false
   },
   "id": "b4a78d0e46ddac44"
  },
  {
   "cell_type": "code",
   "outputs": [],
   "source": [
    "def corr2d_multi_in_out(X,K):\n",
    "    # 迭代\"K\"的第0个维度，每次都对输入\"X\"执行互相关运算\n",
    "    # 最后将所有结果都叠加在一起\n",
    "    return torch.stack([corr2d_multi_in(X,k) for k in K],0)"
   ],
   "metadata": {
    "collapsed": false,
    "ExecuteTime": {
     "end_time": "2024-10-19T02:28:11.843375800Z",
     "start_time": "2024-10-19T02:28:11.814284100Z"
    }
   },
   "id": "81cdf3899b5e634c",
   "execution_count": 3
  },
  {
   "cell_type": "code",
   "outputs": [
    {
     "data": {
      "text/plain": "torch.Size([3, 2, 2, 2])"
     },
     "execution_count": 4,
     "metadata": {},
     "output_type": "execute_result"
    }
   ],
   "source": [
    "K=torch.stack((K,K+1,K+2),0)\n",
    "K.shape"
   ],
   "metadata": {
    "collapsed": false,
    "ExecuteTime": {
     "end_time": "2024-10-19T02:28:11.853342100Z",
     "start_time": "2024-10-19T02:28:11.830906200Z"
    }
   },
   "id": "aad275075745eccd",
   "execution_count": 4
  },
  {
   "cell_type": "code",
   "outputs": [
    {
     "data": {
      "text/plain": "tensor([[[ 56.,  72.],\n         [104., 120.]],\n\n        [[ 76., 100.],\n         [148., 172.]],\n\n        [[ 96., 128.],\n         [192., 224.]]])"
     },
     "execution_count": 5,
     "metadata": {},
     "output_type": "execute_result"
    }
   ],
   "source": [
    "corr2d_multi_in_out(X,K)"
   ],
   "metadata": {
    "collapsed": false,
    "ExecuteTime": {
     "end_time": "2024-10-19T02:28:11.874379700Z",
     "start_time": "2024-10-19T02:28:11.846365300Z"
    }
   },
   "id": "a5e7126087ac8b4b",
   "execution_count": 5
  },
  {
   "cell_type": "markdown",
   "source": [
    "## 6.4.31X1卷积层"
   ],
   "metadata": {
    "collapsed": false
   },
   "id": "e5302ed10e059379"
  },
  {
   "cell_type": "code",
   "outputs": [],
   "source": [
    "def corr2d_multi_in_out_1X1(X,K):\n",
    "    c_i,h,w=X.shape\n",
    "    c_o=K.shape[0]\n",
    "    X=X.reshape((c_i,h*w))\n",
    "    K=K.reshape(c_o,c_i)\n",
    "    # 全连接层中的矩阵乘法\n",
    "    Y=torch.matmul(K,X)\n",
    "    return Y.reshape((c_o,h,w))"
   ],
   "metadata": {
    "collapsed": false,
    "ExecuteTime": {
     "end_time": "2024-10-19T02:28:11.886338700Z",
     "start_time": "2024-10-19T02:28:11.861421800Z"
    }
   },
   "id": "9f575be3ccf591f7",
   "execution_count": 6
  },
  {
   "cell_type": "code",
   "outputs": [],
   "source": [
    "X=torch.normal(0,1,(3,3,3))\n",
    "K=torch.normal(0,1,(2,3,1,1))\n",
    "Y1=corr2d_multi_in_out_1X1(X, K)\n",
    "Y2=corr2d_multi_in_out(X, K)\n",
    "assert float(torch.abs(Y1-Y2).sum())<1e-6"
   ],
   "metadata": {
    "collapsed": false,
    "ExecuteTime": {
     "end_time": "2024-10-19T02:28:11.901288400Z",
     "start_time": "2024-10-19T02:28:11.876372100Z"
    }
   },
   "id": "8c492d4e0e499d3f",
   "execution_count": 7
  }
 ],
 "metadata": {
  "kernelspec": {
   "display_name": "Python 3",
   "language": "python",
   "name": "python3"
  },
  "language_info": {
   "codemirror_mode": {
    "name": "ipython",
    "version": 2
   },
   "file_extension": ".py",
   "mimetype": "text/x-python",
   "name": "python",
   "nbconvert_exporter": "python",
   "pygments_lexer": "ipython2",
   "version": "2.7.6"
  }
 },
 "nbformat": 4,
 "nbformat_minor": 5
}
