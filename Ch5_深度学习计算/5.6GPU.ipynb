{
 "cells": [
  {
   "cell_type": "code",
   "execution_count": 10,
   "id": "initial_id",
   "metadata": {
    "collapsed": true,
    "ExecuteTime": {
     "end_time": "2024-10-16T12:51:51.037786300Z",
     "start_time": "2024-10-16T12:51:50.894788800Z"
    }
   },
   "outputs": [
    {
     "name": "stdout",
     "output_type": "stream",
     "text": [
      "Wed Oct 16 20:51:50 2024       \n",
      "+---------------------------------------------------------------------------------------+\n",
      "| NVIDIA-SMI 537.32                 Driver Version: 537.32       CUDA Version: 12.2     |\n",
      "|-----------------------------------------+----------------------+----------------------+\n",
      "| GPU  Name                     TCC/WDDM  | Bus-Id        Disp.A | Volatile Uncorr. ECC |\n",
      "| Fan  Temp   Perf          Pwr:Usage/Cap |         Memory-Usage | GPU-Util  Compute M. |\n",
      "|                                         |                      |               MIG M. |\n",
      "|=========================================+======================+======================|\n",
      "|   0  NVIDIA GeForce RTX 4060 ...  WDDM  | 00000000:01:00.0 Off |                  N/A |\n",
      "| N/A   44C    P8               3W / 125W |    562MiB /  8188MiB |      0%      Default |\n",
      "|                                         |                      |                  N/A |\n",
      "+-----------------------------------------+----------------------+----------------------+\n",
      "                                                                                         \n",
      "+---------------------------------------------------------------------------------------+\n",
      "| Processes:                                                                            |\n",
      "|  GPU   GI   CI        PID   Type   Process name                            GPU Memory |\n",
      "|        ID   ID                                                             Usage      |\n",
      "|=======================================================================================|\n",
      "|    0   N/A  N/A     23468      C   D:\\app\\anaconda3\\envs\\ai\\python.exe       N/A      |\n",
      "+---------------------------------------------------------------------------------------+\n"
     ]
    }
   ],
   "source": [
    "!nvidia-smi"
   ]
  },
  {
   "cell_type": "markdown",
   "source": [
    "## 5.6.1计算设备"
   ],
   "metadata": {
    "collapsed": false
   },
   "id": "c959974a56f81985"
  },
  {
   "cell_type": "code",
   "outputs": [
    {
     "data": {
      "text/plain": "(device(type='cpu'), device(type='cuda'), device(type='cuda', index=1))"
     },
     "execution_count": 2,
     "metadata": {},
     "output_type": "execute_result"
    }
   ],
   "source": [
    "import torch\n",
    "from torch import nn\n",
    "\n",
    "torch.device('cpu'),torch.device('cuda'),torch.device('cuda:1')"
   ],
   "metadata": {
    "collapsed": false,
    "ExecuteTime": {
     "end_time": "2024-10-16T12:41:39.743461400Z",
     "start_time": "2024-10-16T12:41:37.522624800Z"
    }
   },
   "id": "4d0bb213e77343fd",
   "execution_count": 2
  },
  {
   "cell_type": "code",
   "outputs": [
    {
     "data": {
      "text/plain": "1"
     },
     "execution_count": 3,
     "metadata": {},
     "output_type": "execute_result"
    }
   ],
   "source": [
    "torch.cuda.device_count()"
   ],
   "metadata": {
    "collapsed": false,
    "ExecuteTime": {
     "end_time": "2024-10-16T12:42:31.362171500Z",
     "start_time": "2024-10-16T12:42:29.711642700Z"
    }
   },
   "id": "434bdf0cccb3e53b",
   "execution_count": 3
  },
  {
   "cell_type": "code",
   "outputs": [
    {
     "data": {
      "text/plain": "(device(type='cuda', index=0),\n device(type='cpu'),\n [device(type='cuda', index=0)])"
     },
     "execution_count": 7,
     "metadata": {},
     "output_type": "execute_result"
    }
   ],
   "source": [
    "def try_gpu(i=0):   #@save\n",
    "    \"\"\"如果存在，则返回gpu(i),否则返回cpu()\"\"\"\n",
    "    if torch.cuda.device_count() >= i+1:\n",
    "        return torch.device(f'cuda:{i}')\n",
    "    return torch.device('cpu')\n",
    "\n",
    "def try_all_gpus():      #@save\n",
    "    \"\"\"返回所有可用的GPU，如果没有GPU，则返回[cpu(),]\"\"\"\n",
    "    devices=[torch.device(f'cuda:{i}') for i in range(torch.cuda.device_count())]\n",
    "    return devices if devices else [torch.device('cpu')]\n",
    "\n",
    "try_gpu(),try_gpu(10),try_all_gpus()"
   ],
   "metadata": {
    "collapsed": false,
    "ExecuteTime": {
     "end_time": "2024-10-16T12:47:59.981296300Z",
     "start_time": "2024-10-16T12:47:59.972797400Z"
    }
   },
   "id": "4c81a3d723fadbda",
   "execution_count": 7
  },
  {
   "cell_type": "markdown",
   "source": [
    "## 5.6.2张量与GPU"
   ],
   "metadata": {
    "collapsed": false
   },
   "id": "af1f6067083bcf72"
  },
  {
   "cell_type": "code",
   "outputs": [
    {
     "data": {
      "text/plain": "device(type='cpu')"
     },
     "execution_count": 8,
     "metadata": {},
     "output_type": "execute_result"
    }
   ],
   "source": [
    "x=torch.tensor([1,2,3])\n",
    "x.device"
   ],
   "metadata": {
    "collapsed": false,
    "ExecuteTime": {
     "end_time": "2024-10-16T12:49:09.952585300Z",
     "start_time": "2024-10-16T12:49:09.924865600Z"
    }
   },
   "id": "84ab596d89cc80d1",
   "execution_count": 8
  },
  {
   "cell_type": "markdown",
   "source": [
    "### 5.6.2.1存储在GPU上"
   ],
   "metadata": {
    "collapsed": false
   },
   "id": "2192f8076f39f90c"
  },
  {
   "cell_type": "code",
   "outputs": [
    {
     "data": {
      "text/plain": "tensor([[1., 1., 1.],\n        [1., 1., 1.]], device='cuda:0')"
     },
     "execution_count": 9,
     "metadata": {},
     "output_type": "execute_result"
    }
   ],
   "source": [
    "X=torch.ones(2,3,device=try_gpu())\n",
    "X"
   ],
   "metadata": {
    "collapsed": false,
    "ExecuteTime": {
     "end_time": "2024-10-16T12:51:44.154710900Z",
     "start_time": "2024-10-16T12:51:41.832973Z"
    }
   },
   "id": "c0e2ff55f1ba533d",
   "execution_count": 9
  },
  {
   "cell_type": "code",
   "outputs": [
    {
     "data": {
      "text/plain": "tensor([[ 0.0376, -1.0382, -0.4481],\n        [ 0.9914, -1.3761, -1.1559]], device='cuda:0')"
     },
     "execution_count": 15,
     "metadata": {},
     "output_type": "execute_result"
    }
   ],
   "source": [
    "Y=torch.randn(2,3,device=try_gpu())\n",
    "Y"
   ],
   "metadata": {
    "collapsed": false,
    "ExecuteTime": {
     "end_time": "2024-10-16T12:54:36.643057500Z",
     "start_time": "2024-10-16T12:54:36.624870600Z"
    }
   },
   "id": "dffc684dc40b3b59",
   "execution_count": 15
  },
  {
   "cell_type": "markdown",
   "source": [
    "### 5.6.2.2复制"
   ],
   "metadata": {
    "collapsed": false
   },
   "id": "ddd49aac51a17a1c"
  },
  {
   "cell_type": "code",
   "outputs": [
    {
     "name": "stdout",
     "output_type": "stream",
     "text": [
      "tensor([[1., 1., 1.],\n",
      "        [1., 1., 1.]], device='cuda:0')\n",
      "tensor([[1., 1., 1.],\n",
      "        [1., 1., 1.]], device='cuda:0')\n"
     ]
    }
   ],
   "source": [
    "Z=X.cuda(0)\n",
    "print(X)\n",
    "print(Z)"
   ],
   "metadata": {
    "collapsed": false,
    "ExecuteTime": {
     "end_time": "2024-10-16T12:54:20.772843700Z",
     "start_time": "2024-10-16T12:54:20.752011600Z"
    }
   },
   "id": "4b855c8017d63fd4",
   "execution_count": 13
  },
  {
   "cell_type": "code",
   "outputs": [
    {
     "data": {
      "text/plain": "tensor([[ 1.0376, -0.0382,  0.5519],\n        [ 1.9914, -0.3761, -0.1559]], device='cuda:0')"
     },
     "execution_count": 16,
     "metadata": {},
     "output_type": "execute_result"
    }
   ],
   "source": [
    "Y+Z"
   ],
   "metadata": {
    "collapsed": false,
    "ExecuteTime": {
     "end_time": "2024-10-16T12:54:38.895202800Z",
     "start_time": "2024-10-16T12:54:38.868888500Z"
    }
   },
   "id": "901c3cc5fb11953b",
   "execution_count": 16
  },
  {
   "cell_type": "code",
   "outputs": [
    {
     "data": {
      "text/plain": "True"
     },
     "execution_count": 17,
     "metadata": {},
     "output_type": "execute_result"
    }
   ],
   "source": [
    "Z.cuda(0) is Z"
   ],
   "metadata": {
    "collapsed": false,
    "ExecuteTime": {
     "end_time": "2024-10-16T12:55:09.056397200Z",
     "start_time": "2024-10-16T12:55:09.045561100Z"
    }
   },
   "id": "245508e2e0304265",
   "execution_count": 17
  },
  {
   "cell_type": "markdown",
   "source": [
    "## 5.6.3神经网路与GPU"
   ],
   "metadata": {
    "collapsed": false
   },
   "id": "6989d6f023204cfb"
  },
  {
   "cell_type": "code",
   "outputs": [],
   "source": [
    "net=nn.Sequential(nn.Linear(3,1))\n",
    "net=net.to(device=try_gpu())"
   ],
   "metadata": {
    "collapsed": false,
    "ExecuteTime": {
     "end_time": "2024-10-16T12:57:28.177239900Z",
     "start_time": "2024-10-16T12:57:28.166617400Z"
    }
   },
   "id": "5cfebeff61c762b6",
   "execution_count": 18
  },
  {
   "cell_type": "code",
   "outputs": [
    {
     "data": {
      "text/plain": "tensor([[0.0233],\n        [0.0233]], device='cuda:0', grad_fn=<AddmmBackward0>)"
     },
     "execution_count": 20,
     "metadata": {},
     "output_type": "execute_result"
    }
   ],
   "source": [
    "net(X)"
   ],
   "metadata": {
    "collapsed": false,
    "ExecuteTime": {
     "end_time": "2024-10-16T12:57:52.796830900Z",
     "start_time": "2024-10-16T12:57:52.776189Z"
    }
   },
   "id": "aad057d8e41bff85",
   "execution_count": 20
  },
  {
   "cell_type": "code",
   "outputs": [
    {
     "data": {
      "text/plain": "device(type='cuda', index=0)"
     },
     "execution_count": 21,
     "metadata": {},
     "output_type": "execute_result"
    }
   ],
   "source": [
    "net[0].weight.data.device"
   ],
   "metadata": {
    "collapsed": false,
    "ExecuteTime": {
     "end_time": "2024-10-16T12:58:24.926660700Z",
     "start_time": "2024-10-16T12:58:24.921649900Z"
    }
   },
   "id": "1730d80e6c87847a",
   "execution_count": 21
  }
 ],
 "metadata": {
  "kernelspec": {
   "display_name": "Python 3",
   "language": "python",
   "name": "python3"
  },
  "language_info": {
   "codemirror_mode": {
    "name": "ipython",
    "version": 2
   },
   "file_extension": ".py",
   "mimetype": "text/x-python",
   "name": "python",
   "nbconvert_exporter": "python",
   "pygments_lexer": "ipython2",
   "version": "2.7.6"
  }
 },
 "nbformat": 4,
 "nbformat_minor": 5
}
