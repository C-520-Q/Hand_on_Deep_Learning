{
 "cells": [
  {
   "cell_type": "markdown",
   "source": [
    "## 5.4.1不带参数的层"
   ],
   "metadata": {
    "collapsed": false
   },
   "id": "ee4f10864fd30f60"
  },
  {
   "cell_type": "code",
   "outputs": [],
   "source": [
    "import torch\n",
    "import torch.nn.functional as F\n",
    "from torch import nn\n",
    "\n",
    "class CenteredLayer(nn.Module):\n",
    "    def __init__(self):\n",
    "        super().__init__()\n",
    "    def forward(self,X):\n",
    "        return X-X.mean()"
   ],
   "metadata": {
    "collapsed": false,
    "ExecuteTime": {
     "end_time": "2024-10-16T12:17:36.357968900Z",
     "start_time": "2024-10-16T12:17:34.149610200Z"
    }
   },
   "id": "6822ec6164ba18e2",
   "execution_count": 1
  },
  {
   "cell_type": "code",
   "outputs": [
    {
     "data": {
      "text/plain": "tensor([-2., -1.,  0.,  1.,  2.])"
     },
     "execution_count": 2,
     "metadata": {},
     "output_type": "execute_result"
    }
   ],
   "source": [
    "layer=CenteredLayer()\n",
    "layer(torch.FloatTensor([1,2,3,4,5]))"
   ],
   "metadata": {
    "collapsed": false,
    "ExecuteTime": {
     "end_time": "2024-10-16T12:17:36.373426200Z",
     "start_time": "2024-10-16T12:17:36.360464900Z"
    }
   },
   "id": "51127cd427121947",
   "execution_count": 2
  },
  {
   "cell_type": "code",
   "outputs": [
    {
     "data": {
      "text/plain": "tensor(-1.8626e-09, grad_fn=<MeanBackward0>)"
     },
     "execution_count": 3,
     "metadata": {},
     "output_type": "execute_result"
    }
   ],
   "source": [
    "net=nn.Sequential(nn.Linear(8,128),CenteredLayer())\n",
    "Y=net(torch.randn(4,8))\n",
    "Y.mean()"
   ],
   "metadata": {
    "collapsed": false,
    "ExecuteTime": {
     "end_time": "2024-10-16T12:17:36.392997500Z",
     "start_time": "2024-10-16T12:17:36.374422900Z"
    }
   },
   "id": "2e7469d140601f01",
   "execution_count": 3
  },
  {
   "cell_type": "markdown",
   "source": [
    "## 5.4.2带参数的层"
   ],
   "metadata": {
    "collapsed": false
   },
   "id": "8bf136e471839ad4"
  },
  {
   "cell_type": "code",
   "outputs": [],
   "source": [
    "class MyLinear(nn.Module):\n",
    "    def __init__(self,in_units,units):\n",
    "        super().__init__()\n",
    "        self.weight=nn.Parameter(torch.randn(in_units,units))\n",
    "        self.bias=nn.Parameter(torch.randn(units,))\n",
    "    def forward(self,X):\n",
    "        linear=torch.matmul(X,self.weight.data)+ self.bias.data\n",
    "        return F.relu(linear)"
   ],
   "metadata": {
    "collapsed": false,
    "ExecuteTime": {
     "end_time": "2024-10-16T12:17:36.408484400Z",
     "start_time": "2024-10-16T12:17:36.391999500Z"
    }
   },
   "id": "2021e6d0d975a0b8",
   "execution_count": 4
  },
  {
   "cell_type": "code",
   "outputs": [
    {
     "data": {
      "text/plain": "Parameter containing:\ntensor([[ 0.4019,  0.2132,  0.4776],\n        [-0.0913,  0.1752, -0.5107],\n        [ 0.2014, -2.0916, -0.9453],\n        [-0.3135, -0.1922, -0.3942],\n        [-1.0073,  0.5170, -0.9539]], requires_grad=True)"
     },
     "execution_count": 5,
     "metadata": {},
     "output_type": "execute_result"
    }
   ],
   "source": [
    "linear=MyLinear(5,3)\n",
    "linear.weight"
   ],
   "metadata": {
    "collapsed": false,
    "ExecuteTime": {
     "end_time": "2024-10-16T12:17:36.435228800Z",
     "start_time": "2024-10-16T12:17:36.406491100Z"
    }
   },
   "id": "78dfa9ef5cd06a8f",
   "execution_count": 5
  },
  {
   "cell_type": "code",
   "outputs": [
    {
     "data": {
      "text/plain": "tensor([[0.4901, 0.0000, 0.0000],\n        [0.2807, 0.0000, 1.5885]])"
     },
     "execution_count": 6,
     "metadata": {},
     "output_type": "execute_result"
    }
   ],
   "source": [
    "linear(torch.randn(2,5))"
   ],
   "metadata": {
    "collapsed": false,
    "ExecuteTime": {
     "end_time": "2024-10-16T12:17:36.444160700Z",
     "start_time": "2024-10-16T12:17:36.423510800Z"
    }
   },
   "id": "ca602ca6529d0ffb",
   "execution_count": 6
  },
  {
   "cell_type": "code",
   "outputs": [
    {
     "data": {
      "text/plain": "tensor([[0.],\n        [0.]])"
     },
     "execution_count": 7,
     "metadata": {},
     "output_type": "execute_result"
    }
   ],
   "source": [
    "net=nn.Sequential(MyLinear(64,8),MyLinear(8,1))\n",
    "net(torch.randn(2,64))"
   ],
   "metadata": {
    "collapsed": false,
    "ExecuteTime": {
     "end_time": "2024-10-16T12:17:36.467091400Z",
     "start_time": "2024-10-16T12:17:36.438216Z"
    }
   },
   "id": "653b9270a8111cd1",
   "execution_count": 7
  }
 ],
 "metadata": {
  "kernelspec": {
   "display_name": "Python 3",
   "language": "python",
   "name": "python3"
  },
  "language_info": {
   "codemirror_mode": {
    "name": "ipython",
    "version": 2
   },
   "file_extension": ".py",
   "mimetype": "text/x-python",
   "name": "python",
   "nbconvert_exporter": "python",
   "pygments_lexer": "ipython2",
   "version": "2.7.6"
  }
 },
 "nbformat": 4,
 "nbformat_minor": 5
}
