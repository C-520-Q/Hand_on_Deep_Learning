{
 "cells": [
  {
   "cell_type": "markdown",
   "source": [
    "## 3.3.1生成数据集"
   ],
   "metadata": {
    "collapsed": false
   },
   "id": "e04b09e5dda059b8"
  },
  {
   "cell_type": "code",
   "outputs": [],
   "source": [
    "import torch\n",
    "from torch.utils import data\n",
    "from d2l import torch as d2l\n",
    "\n",
    "true_w=torch.tensor([2,-3.4])\n",
    "true_b=4.2\n",
    "features,labels=d2l.synthetic_data(true_w,true_b,1000)"
   ],
   "metadata": {
    "collapsed": false,
    "ExecuteTime": {
     "end_time": "2024-10-12T09:42:36.918441800Z",
     "start_time": "2024-10-12T09:42:32.431604500Z"
    }
   },
   "id": "9ba7a415299913e8",
   "execution_count": 1
  },
  {
   "cell_type": "markdown",
   "source": [
    "## 3.3.2读取数据集"
   ],
   "metadata": {
    "collapsed": false
   },
   "id": "75526426336e4f02"
  },
  {
   "cell_type": "code",
   "outputs": [],
   "source": [
    "def load_array(data_arrays,batch_size,is_train=True):\n",
    "    \"\"\"构造一个PyTorch数据迭代器\"\"\"\n",
    "    dataset=data.TensorDataset(*data_arrays)\n",
    "    return data.DataLoader(dataset,batch_size,shuffle=is_train)\n",
    "\n",
    "batch_size=10\n",
    "data_iter=load_array((features,labels),batch_size)"
   ],
   "metadata": {
    "collapsed": false,
    "ExecuteTime": {
     "end_time": "2024-10-12T09:42:36.934069300Z",
     "start_time": "2024-10-12T09:42:36.921441900Z"
    }
   },
   "id": "8aeb5d5254851151",
   "execution_count": 2
  },
  {
   "cell_type": "code",
   "outputs": [
    {
     "data": {
      "text/plain": "[tensor([[-1.1245,  0.0504],\n         [-1.7984,  0.5852],\n         [-0.1903,  1.5786],\n         [ 1.7566, -0.3236],\n         [ 0.1583, -0.4628],\n         [ 0.5538, -0.5276],\n         [ 0.6525,  1.1600],\n         [-1.1263, -0.0689],\n         [-0.1039, -0.5709],\n         [ 0.3959,  1.7113]]),\n tensor([[ 1.7905],\n         [-1.3703],\n         [-1.5531],\n         [ 8.8136],\n         [ 6.1001],\n         [ 7.0976],\n         [ 1.5516],\n         [ 2.1869],\n         [ 5.9393],\n         [-0.8355]])]"
     },
     "execution_count": 3,
     "metadata": {},
     "output_type": "execute_result"
    }
   ],
   "source": [
    "next(iter(data_iter))"
   ],
   "metadata": {
    "collapsed": false,
    "ExecuteTime": {
     "end_time": "2024-10-12T09:42:36.961798600Z",
     "start_time": "2024-10-12T09:42:36.935070900Z"
    }
   },
   "id": "fbad9eee45e4ecd8",
   "execution_count": 3
  },
  {
   "cell_type": "markdown",
   "source": [
    "## 3.3.3定义模型"
   ],
   "metadata": {
    "collapsed": false
   },
   "id": "faf9dd558e80049d"
  },
  {
   "cell_type": "code",
   "outputs": [],
   "source": [
    "from torch import nn\n",
    "\n",
    "net=nn.Sequential(nn.Linear(2,1))"
   ],
   "metadata": {
    "collapsed": false,
    "ExecuteTime": {
     "end_time": "2024-10-12T09:42:36.969303100Z",
     "start_time": "2024-10-12T09:42:36.951576100Z"
    }
   },
   "id": "a7449156c1dde031",
   "execution_count": 4
  },
  {
   "cell_type": "markdown",
   "source": [
    "## 3.3.4初始化模型参数"
   ],
   "metadata": {
    "collapsed": false
   },
   "id": "66c4202446206315"
  },
  {
   "cell_type": "code",
   "outputs": [
    {
     "data": {
      "text/plain": "tensor([0.])"
     },
     "execution_count": 5,
     "metadata": {},
     "output_type": "execute_result"
    }
   ],
   "source": [
    "net[0].weight.data.normal_(0,0.01)\n",
    "net[0].bias.data.fill_(0)"
   ],
   "metadata": {
    "collapsed": false,
    "ExecuteTime": {
     "end_time": "2024-10-12T09:42:36.991413700Z",
     "start_time": "2024-10-12T09:42:36.966303200Z"
    }
   },
   "id": "d79ff2e9b853a425",
   "execution_count": 5
  },
  {
   "cell_type": "markdown",
   "source": [
    "## 3.3.5定义损失函数"
   ],
   "metadata": {
    "collapsed": false
   },
   "id": "1c78fca22cdbb1fb"
  },
  {
   "cell_type": "code",
   "outputs": [],
   "source": [
    "loss=nn.MSELoss()"
   ],
   "metadata": {
    "collapsed": false,
    "ExecuteTime": {
     "end_time": "2024-10-12T09:42:36.997916200Z",
     "start_time": "2024-10-12T09:42:36.981906Z"
    }
   },
   "id": "2ec6a30d3abe62f8",
   "execution_count": 6
  },
  {
   "cell_type": "markdown",
   "source": [
    "## 3.3.6定义优化算法"
   ],
   "metadata": {
    "collapsed": false
   },
   "id": "a5682e2fc59d59bf"
  },
  {
   "cell_type": "code",
   "outputs": [],
   "source": [
    "trainer=torch.optim.SGD(net.parameters(),lr=0.03)"
   ],
   "metadata": {
    "collapsed": false,
    "ExecuteTime": {
     "end_time": "2024-10-12T09:42:37.013921600Z",
     "start_time": "2024-10-12T09:42:36.997916200Z"
    }
   },
   "id": "bf6b0ba574859ef3",
   "execution_count": 7
  },
  {
   "cell_type": "markdown",
   "source": [
    "## 3.3.7训练"
   ],
   "metadata": {
    "collapsed": false
   },
   "id": "92e6eeaaa556d75b"
  },
  {
   "cell_type": "code",
   "outputs": [
    {
     "name": "stdout",
     "output_type": "stream",
     "text": [
      "epoch:1,loss:0.000334\n",
      "epoch:2,loss:0.000103\n",
      "epoch:3,loss:0.000103\n"
     ]
    }
   ],
   "source": [
    "num_epochs=3\n",
    "for epoch in range(num_epochs):\n",
    "    for X,y in data_iter:\n",
    "        l=loss(net(X),y)\n",
    "        trainer.zero_grad()\n",
    "        l.backward()\n",
    "        trainer.step()\n",
    "    l=loss(net(features),labels)\n",
    "    print(f'epoch:{epoch+1},loss:{l:f}')"
   ],
   "metadata": {
    "collapsed": false,
    "ExecuteTime": {
     "end_time": "2024-10-12T09:42:37.137048200Z",
     "start_time": "2024-10-12T09:42:37.013921600Z"
    }
   },
   "id": "f61150e39b2c92c3",
   "execution_count": 8
  },
  {
   "cell_type": "code",
   "outputs": [
    {
     "name": "stdout",
     "output_type": "stream",
     "text": [
      "w的估计误差： tensor([-0.0005,  0.0005])\n",
      "b的估计误差： tensor([0.0003])\n"
     ]
    }
   ],
   "source": [
    "w=net[0].weight.data\n",
    "print('w的估计误差：',true_w-w.reshape(true_w.shape))\n",
    "b=net[0].bias.data\n",
    "print('b的估计误差：',true_b-b)"
   ],
   "metadata": {
    "collapsed": false,
    "ExecuteTime": {
     "end_time": "2024-10-12T09:42:37.167093900Z",
     "start_time": "2024-10-12T09:42:37.139047800Z"
    }
   },
   "id": "851275d286347a84",
   "execution_count": 9
  }
 ],
 "metadata": {
  "kernelspec": {
   "display_name": "Python 3",
   "language": "python",
   "name": "python3"
  },
  "language_info": {
   "codemirror_mode": {
    "name": "ipython",
    "version": 2
   },
   "file_extension": ".py",
   "mimetype": "text/x-python",
   "name": "python",
   "nbconvert_exporter": "python",
   "pygments_lexer": "ipython2",
   "version": "2.7.6"
  }
 },
 "nbformat": 4,
 "nbformat_minor": 5
}
