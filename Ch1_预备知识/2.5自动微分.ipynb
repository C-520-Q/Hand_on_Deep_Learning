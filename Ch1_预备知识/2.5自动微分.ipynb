{
 "cells": [
  {
   "cell_type": "markdown",
   "source": [
    "## 2.2.1一个简单的例子"
   ],
   "metadata": {
    "collapsed": false
   },
   "id": "12deef2f5037236c"
  },
  {
   "cell_type": "code",
   "outputs": [
    {
     "data": {
      "text/plain": "tensor([0., 1., 2., 3.])"
     },
     "execution_count": 1,
     "metadata": {},
     "output_type": "execute_result"
    }
   ],
   "source": [
    "import torch\n",
    "\n",
    "x=torch.arange(4.0)\n",
    "x"
   ],
   "metadata": {
    "collapsed": false,
    "ExecuteTime": {
     "end_time": "2024-10-11T07:58:20.650500300Z",
     "start_time": "2024-10-11T07:58:18.409592600Z"
    }
   },
   "id": "352c3432c1fbcad",
   "execution_count": 1
  },
  {
   "cell_type": "code",
   "outputs": [
    {
     "data": {
      "text/plain": "tensor(28., grad_fn=<MulBackward0>)"
     },
     "execution_count": 2,
     "metadata": {},
     "output_type": "execute_result"
    }
   ],
   "source": [
    "x.requires_grad_(True)   # 等价于x=torch.arange(4.0, requires_grad=True)\n",
    "x.grad   # 默认值是None\n",
    "y=2*torch.dot(x,x)\n",
    "y"
   ],
   "metadata": {
    "collapsed": false,
    "ExecuteTime": {
     "end_time": "2024-10-11T07:58:20.676413600Z",
     "start_time": "2024-10-11T07:58:20.651497700Z"
    }
   },
   "id": "45691af90afa5dab",
   "execution_count": 2
  },
  {
   "cell_type": "code",
   "outputs": [
    {
     "data": {
      "text/plain": "tensor([ 0.,  4.,  8., 12.])"
     },
     "execution_count": 3,
     "metadata": {},
     "output_type": "execute_result"
    }
   ],
   "source": [
    "y.backward()\n",
    "x.grad"
   ],
   "metadata": {
    "collapsed": false,
    "ExecuteTime": {
     "end_time": "2024-10-11T07:58:20.729237400Z",
     "start_time": "2024-10-11T07:58:20.666447600Z"
    }
   },
   "id": "fe25b474703332f4",
   "execution_count": 3
  },
  {
   "cell_type": "code",
   "outputs": [
    {
     "data": {
      "text/plain": "tensor([True, True, True, True])"
     },
     "execution_count": 4,
     "metadata": {},
     "output_type": "execute_result"
    }
   ],
   "source": [
    "x.grad==4*x"
   ],
   "metadata": {
    "collapsed": false,
    "ExecuteTime": {
     "end_time": "2024-10-11T07:58:20.756655Z",
     "start_time": "2024-10-11T07:58:20.731230200Z"
    }
   },
   "id": "d2189255810f65a8",
   "execution_count": 4
  },
  {
   "cell_type": "code",
   "outputs": [
    {
     "data": {
      "text/plain": "tensor([1., 1., 1., 1.])"
     },
     "execution_count": 5,
     "metadata": {},
     "output_type": "execute_result"
    }
   ],
   "source": [
    "# 在默认情况下，PyTorch会累积梯度，所以在反向传播之后需要手动清零梯度\n",
    "x.grad.zero_()\n",
    "y=x.sum()\n",
    "y.backward()\n",
    "x.grad"
   ],
   "metadata": {
    "collapsed": false,
    "ExecuteTime": {
     "end_time": "2024-10-11T07:58:20.761638400Z",
     "start_time": "2024-10-11T07:58:20.746181700Z"
    }
   },
   "id": "8b2552e7427121c9",
   "execution_count": 5
  },
  {
   "cell_type": "markdown",
   "source": [
    "## 2.5.2非标量变量的反向传播\n"
   ],
   "metadata": {
    "collapsed": false
   },
   "id": "a67d84336afd2dbe"
  },
  {
   "cell_type": "code",
   "outputs": [
    {
     "data": {
      "text/plain": "tensor([0., 2., 4., 6.])"
     },
     "execution_count": 6,
     "metadata": {},
     "output_type": "execute_result"
    }
   ],
   "source": [
    "# 对非标量调用backward()函数需要传入一个gradient参数，该参数指定微分函数关于self的梯度\n",
    "# 本例只想求偏导数的和，所以传递一个1的梯度是合适的\n",
    "x.grad.zero_()\n",
    "y=x*x\n",
    "# 等价与y.backward(torch.ones(len(x)))\n",
    "y.sum().backward()\n",
    "x.grad"
   ],
   "metadata": {
    "collapsed": false,
    "ExecuteTime": {
     "end_time": "2024-10-11T07:58:20.780574800Z",
     "start_time": "2024-10-11T07:58:20.762634600Z"
    }
   },
   "id": "270c203bc2be018d",
   "execution_count": 6
  },
  {
   "cell_type": "markdown",
   "source": [
    "## 2.5.3分离计算"
   ],
   "metadata": {
    "collapsed": false
   },
   "id": "47f8f31d2e29cab5"
  },
  {
   "cell_type": "code",
   "outputs": [
    {
     "data": {
      "text/plain": "tensor([True, True, True, True])"
     },
     "execution_count": 7,
     "metadata": {},
     "output_type": "execute_result"
    }
   ],
   "source": [
    "# 清空张量x的梯度\n",
    "x.grad.zero_() \n",
    "# 计算y为x的平方\n",
    "y = x * x  \n",
    "# 将y分离出计算图，避免y的梯度影响后续计算\n",
    "u = y.detach() \n",
    "# 计算z为u和x的乘积\n",
    "z = u * x  \n",
    "# 对z的总和进行反向传播，计算x的梯度\n",
    "z.sum().backward() \n",
    "# 检查x的梯度是否等于u\n",
    "x.grad == u  \n"
   ],
   "metadata": {
    "collapsed": false,
    "ExecuteTime": {
     "end_time": "2024-10-11T07:58:20.792534800Z",
     "start_time": "2024-10-11T07:58:20.777584300Z"
    }
   },
   "id": "5a7e2224649a5537",
   "execution_count": 7
  },
  {
   "cell_type": "code",
   "outputs": [
    {
     "data": {
      "text/plain": "tensor([True, True, True, True])"
     },
     "execution_count": 8,
     "metadata": {},
     "output_type": "execute_result"
    }
   ],
   "source": [
    "# 清零x的梯度，以避免之前计算的梯度对后续计算产生影响\n",
    "x.grad.zero_()\n",
    "# 对y的总和进行反向传播，计算y相对于x的梯度\n",
    "y.sum().backward()\n",
    "# 检查当前x的梯度是否等于2*x，即验证反向传播的结果是否正确\n",
    "x.grad == 2 * x"
   ],
   "metadata": {
    "collapsed": false,
    "ExecuteTime": {
     "end_time": "2024-10-11T07:58:20.810475Z",
     "start_time": "2024-10-11T07:58:20.793531500Z"
    }
   },
   "id": "f988882e8ef48f78",
   "execution_count": 8
  },
  {
   "cell_type": "markdown",
   "source": [
    "## 2.5.4Python控制流的梯度计算"
   ],
   "metadata": {
    "collapsed": false
   },
   "id": "a3362944774a94a6"
  },
  {
   "cell_type": "code",
   "outputs": [],
   "source": [
    "def f(a):\n",
    "    b=a*2\n",
    "    while b.norm()<1000:\n",
    "        b=b*2\n",
    "    if b.sum()>0:\n",
    "        c=b\n",
    "    else:\n",
    "        c=100*b\n",
    "    return c"
   ],
   "metadata": {
    "collapsed": false,
    "ExecuteTime": {
     "end_time": "2024-10-11T08:00:37.734328700Z",
     "start_time": "2024-10-11T08:00:37.724209400Z"
    }
   },
   "id": "e29aa5614560fc1a",
   "execution_count": 9
  },
  {
   "cell_type": "code",
   "outputs": [],
   "source": [
    "a=torch.randn(size=(),requires_grad=True)\n",
    "d=f(a)\n",
    "d.backward()"
   ],
   "metadata": {
    "collapsed": false,
    "ExecuteTime": {
     "end_time": "2024-10-11T08:01:16.729935200Z",
     "start_time": "2024-10-11T08:01:16.709925Z"
    }
   },
   "id": "454d9f3f307508c1",
   "execution_count": 10
  },
  {
   "cell_type": "code",
   "outputs": [
    {
     "data": {
      "text/plain": "tensor(True)"
     },
     "execution_count": 11,
     "metadata": {},
     "output_type": "execute_result"
    }
   ],
   "source": [
    "a.grad==d/a"
   ],
   "metadata": {
    "collapsed": false,
    "ExecuteTime": {
     "end_time": "2024-10-11T08:02:27.931145400Z",
     "start_time": "2024-10-11T08:02:27.918188900Z"
    }
   },
   "id": "2464889ea21355aa",
   "execution_count": 11
  }
 ],
 "metadata": {
  "kernelspec": {
   "display_name": "Python 3",
   "language": "python",
   "name": "python3"
  },
  "language_info": {
   "codemirror_mode": {
    "name": "ipython",
    "version": 2
   },
   "file_extension": ".py",
   "mimetype": "text/x-python",
   "name": "python",
   "nbconvert_exporter": "python",
   "pygments_lexer": "ipython2",
   "version": "2.7.6"
  }
 },
 "nbformat": 4,
 "nbformat_minor": 5
}
