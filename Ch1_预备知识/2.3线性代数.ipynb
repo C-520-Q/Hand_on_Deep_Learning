{
 "cells": [
  {
   "cell_type": "markdown",
   "source": [
    "## 2.3.1标量"
   ],
   "metadata": {
    "collapsed": false
   },
   "id": "5318e9acac602bd4"
  },
  {
   "cell_type": "code",
   "outputs": [
    {
     "data": {
      "text/plain": "(tensor(7.), tensor(12.), tensor(0.7500), tensor(81.))"
     },
     "execution_count": 1,
     "metadata": {},
     "output_type": "execute_result"
    }
   ],
   "source": [
    "import torch\n",
    "\n",
    "x=torch.tensor(3.0)\n",
    "y=torch.tensor(4.0)\n",
    "x+y,x*y,x/y,x**y"
   ],
   "metadata": {
    "collapsed": false,
    "ExecuteTime": {
     "end_time": "2024-10-11T05:07:11.960475100Z",
     "start_time": "2024-10-11T05:07:09.807060900Z"
    }
   },
   "id": "42074b63c6195ab5",
   "execution_count": 1
  },
  {
   "cell_type": "markdown",
   "source": [
    "## 2.3.2向量"
   ],
   "metadata": {
    "collapsed": false
   },
   "id": "95db3bff045effe7"
  },
  {
   "cell_type": "code",
   "outputs": [
    {
     "data": {
      "text/plain": "tensor([0, 1, 2, 3])"
     },
     "execution_count": 2,
     "metadata": {},
     "output_type": "execute_result"
    }
   ],
   "source": [
    "x=torch.arange(4)\n",
    "x"
   ],
   "metadata": {
    "collapsed": false,
    "ExecuteTime": {
     "end_time": "2024-10-11T05:07:11.978079300Z",
     "start_time": "2024-10-11T05:07:11.962819100Z"
    }
   },
   "id": "6132987a5abf3094",
   "execution_count": 2
  },
  {
   "cell_type": "code",
   "outputs": [
    {
     "data": {
      "text/plain": "tensor(3)"
     },
     "execution_count": 3,
     "metadata": {},
     "output_type": "execute_result"
    }
   ],
   "source": [
    "x[3]"
   ],
   "metadata": {
    "collapsed": false,
    "ExecuteTime": {
     "end_time": "2024-10-11T05:07:11.991678900Z",
     "start_time": "2024-10-11T05:07:11.978079300Z"
    }
   },
   "id": "347f8ec353634ead",
   "execution_count": 3
  },
  {
   "cell_type": "code",
   "outputs": [
    {
     "data": {
      "text/plain": "4"
     },
     "execution_count": 4,
     "metadata": {},
     "output_type": "execute_result"
    }
   ],
   "source": [
    "len(x)"
   ],
   "metadata": {
    "collapsed": false,
    "ExecuteTime": {
     "end_time": "2024-10-11T05:07:12.016815200Z",
     "start_time": "2024-10-11T05:07:11.993673900Z"
    }
   },
   "id": "f6927126c90ed3f1",
   "execution_count": 4
  },
  {
   "cell_type": "code",
   "outputs": [
    {
     "data": {
      "text/plain": "torch.Size([4])"
     },
     "execution_count": 5,
     "metadata": {},
     "output_type": "execute_result"
    }
   ],
   "source": [
    "x.shape"
   ],
   "metadata": {
    "collapsed": false,
    "ExecuteTime": {
     "end_time": "2024-10-11T05:07:12.023332300Z",
     "start_time": "2024-10-11T05:07:12.007818200Z"
    }
   },
   "id": "8156c7b526606068",
   "execution_count": 5
  },
  {
   "cell_type": "markdown",
   "source": [
    "## 2.3.3矩阵"
   ],
   "metadata": {
    "collapsed": false
   },
   "id": "1323388ab4ad052e"
  },
  {
   "cell_type": "code",
   "outputs": [
    {
     "data": {
      "text/plain": "tensor([[ 0,  1,  2,  3],\n        [ 4,  5,  6,  7],\n        [ 8,  9, 10, 11],\n        [12, 13, 14, 15],\n        [16, 17, 18, 19]])"
     },
     "execution_count": 6,
     "metadata": {},
     "output_type": "execute_result"
    }
   ],
   "source": [
    "A=torch.arange(20).reshape(5,-1)\n",
    "A"
   ],
   "metadata": {
    "collapsed": false,
    "ExecuteTime": {
     "end_time": "2024-10-11T05:07:12.048201400Z",
     "start_time": "2024-10-11T05:07:12.024329300Z"
    }
   },
   "id": "ecbfd565f1e1d988",
   "execution_count": 6
  },
  {
   "cell_type": "code",
   "outputs": [
    {
     "data": {
      "text/plain": "tensor([[ 0,  4,  8, 12, 16],\n        [ 1,  5,  9, 13, 17],\n        [ 2,  6, 10, 14, 18],\n        [ 3,  7, 11, 15, 19]])"
     },
     "execution_count": 7,
     "metadata": {},
     "output_type": "execute_result"
    }
   ],
   "source": [
    "A.T"
   ],
   "metadata": {
    "collapsed": false,
    "ExecuteTime": {
     "end_time": "2024-10-11T05:07:12.054685900Z",
     "start_time": "2024-10-11T05:07:12.038654100Z"
    }
   },
   "id": "a2e9f45baca7a56f",
   "execution_count": 7
  },
  {
   "cell_type": "code",
   "outputs": [
    {
     "data": {
      "text/plain": "tensor([[1, 2, 3],\n        [2, 0, 4],\n        [3, 4, 5]])"
     },
     "execution_count": 8,
     "metadata": {},
     "output_type": "execute_result"
    }
   ],
   "source": [
    "B=torch.tensor([[1,2,3],[2,0,4],[3,4,5]])\n",
    "B"
   ],
   "metadata": {
    "collapsed": false,
    "ExecuteTime": {
     "end_time": "2024-10-11T05:07:12.076138Z",
     "start_time": "2024-10-11T05:07:12.055682500Z"
    }
   },
   "id": "773d8727a92f822b",
   "execution_count": 8
  },
  {
   "cell_type": "code",
   "outputs": [
    {
     "data": {
      "text/plain": "tensor([[True, True, True],\n        [True, True, True],\n        [True, True, True]])"
     },
     "execution_count": 9,
     "metadata": {},
     "output_type": "execute_result"
    }
   ],
   "source": [
    "B==B.T"
   ],
   "metadata": {
    "collapsed": false,
    "ExecuteTime": {
     "end_time": "2024-10-11T05:07:12.085642Z",
     "start_time": "2024-10-11T05:07:12.071150800Z"
    }
   },
   "id": "9934aa6fbaef9447",
   "execution_count": 9
  },
  {
   "cell_type": "markdown",
   "source": [
    "## 2.3.4张量"
   ],
   "metadata": {
    "collapsed": false
   },
   "id": "ca99e10ea4aa2ff5"
  },
  {
   "cell_type": "code",
   "outputs": [
    {
     "data": {
      "text/plain": "tensor([[[ 0,  1,  2,  3],\n         [ 4,  5,  6,  7],\n         [ 8,  9, 10, 11]],\n\n        [[12, 13, 14, 15],\n         [16, 17, 18, 19],\n         [20, 21, 22, 23]]])"
     },
     "execution_count": 10,
     "metadata": {},
     "output_type": "execute_result"
    }
   ],
   "source": [
    "X=torch.arange(24).reshape(2,3,-1)\n",
    "X"
   ],
   "metadata": {
    "collapsed": false,
    "ExecuteTime": {
     "end_time": "2024-10-11T05:07:12.107577600Z",
     "start_time": "2024-10-11T05:07:12.086638300Z"
    }
   },
   "id": "f028108dccc464bd",
   "execution_count": 10
  },
  {
   "cell_type": "markdown",
   "source": [
    "## 2.3.5张量算法的基本性质"
   ],
   "metadata": {
    "collapsed": false
   },
   "id": "574f1b9ecc1fd62d"
  },
  {
   "cell_type": "code",
   "outputs": [
    {
     "data": {
      "text/plain": "(tensor([[ 0.,  1.,  2.,  3.],\n         [ 4.,  5.,  6.,  7.],\n         [ 8.,  9., 10., 11.],\n         [12., 13., 14., 15.],\n         [16., 17., 18., 19.]]),\n tensor([[ 0.,  2.,  4.,  6.],\n         [ 8., 10., 12., 14.],\n         [16., 18., 20., 22.],\n         [24., 26., 28., 30.],\n         [32., 34., 36., 38.]]))"
     },
     "execution_count": 11,
     "metadata": {},
     "output_type": "execute_result"
    }
   ],
   "source": [
    "A=torch.arange(20,dtype=torch.float32).reshape(-1,4)\n",
    "B=A.clone()     # 通过分配新内存，将A的副本分配给B\n",
    "A,A+B"
   ],
   "metadata": {
    "collapsed": false,
    "ExecuteTime": {
     "end_time": "2024-10-11T05:07:12.117197Z",
     "start_time": "2024-10-11T05:07:12.101598Z"
    }
   },
   "id": "cf3766839c4bfb7e",
   "execution_count": 11
  },
  {
   "cell_type": "code",
   "outputs": [
    {
     "data": {
      "text/plain": "tensor([[  0.,   1.,   4.,   9.],\n        [ 16.,  25.,  36.,  49.],\n        [ 64.,  81., 100., 121.],\n        [144., 169., 196., 225.],\n        [256., 289., 324., 361.]])"
     },
     "execution_count": 12,
     "metadata": {},
     "output_type": "execute_result"
    }
   ],
   "source": [
    "A*B"
   ],
   "metadata": {
    "collapsed": false,
    "ExecuteTime": {
     "end_time": "2024-10-11T05:07:12.143667200Z",
     "start_time": "2024-10-11T05:07:12.118193800Z"
    }
   },
   "id": "7b5a9787b17fe003",
   "execution_count": 12
  },
  {
   "cell_type": "code",
   "outputs": [
    {
     "data": {
      "text/plain": "(tensor([[[ 2,  3,  4,  5],\n          [ 6,  7,  8,  9],\n          [10, 11, 12, 13]],\n \n         [[14, 15, 16, 17],\n          [18, 19, 20, 21],\n          [22, 23, 24, 25]]]),\n torch.Size([2, 3, 4]))"
     },
     "execution_count": 13,
     "metadata": {},
     "output_type": "execute_result"
    }
   ],
   "source": [
    "a=2\n",
    "X=torch.arange(24).reshape(2,3,-1)\n",
    "a+X,(a*X).shape"
   ],
   "metadata": {
    "collapsed": false,
    "ExecuteTime": {
     "end_time": "2024-10-11T05:07:12.149647300Z",
     "start_time": "2024-10-11T05:07:12.134179900Z"
    }
   },
   "id": "e658cb8b3e2b7e3f",
   "execution_count": 13
  },
  {
   "cell_type": "markdown",
   "source": [
    "## 2.3.6降维"
   ],
   "metadata": {
    "collapsed": false
   },
   "id": "b22cffb24071899c"
  },
  {
   "cell_type": "code",
   "outputs": [
    {
     "data": {
      "text/plain": "(tensor([0., 1., 2., 3.]), tensor(6.))"
     },
     "execution_count": 14,
     "metadata": {},
     "output_type": "execute_result"
    }
   ],
   "source": [
    "x=torch.arange(4,dtype=torch.float32)\n",
    "x,x.sum()"
   ],
   "metadata": {
    "collapsed": false,
    "ExecuteTime": {
     "end_time": "2024-10-11T05:07:12.171856100Z",
     "start_time": "2024-10-11T05:07:12.148650400Z"
    }
   },
   "id": "993296c71cf07e31",
   "execution_count": 14
  },
  {
   "cell_type": "code",
   "outputs": [
    {
     "data": {
      "text/plain": "(torch.Size([5, 4]), tensor(190.))"
     },
     "execution_count": 15,
     "metadata": {},
     "output_type": "execute_result"
    }
   ],
   "source": [
    "A.shape,A.sum()"
   ],
   "metadata": {
    "collapsed": false,
    "ExecuteTime": {
     "end_time": "2024-10-11T05:07:12.182417500Z",
     "start_time": "2024-10-11T05:07:12.164531900Z"
    }
   },
   "id": "9f3e0b7100530fed",
   "execution_count": 15
  },
  {
   "cell_type": "code",
   "outputs": [
    {
     "data": {
      "text/plain": "(tensor([40., 45., 50., 55.]), torch.Size([4]))"
     },
     "execution_count": 16,
     "metadata": {},
     "output_type": "execute_result"
    }
   ],
   "source": [
    "A_sum_axis0=A.sum(dim=0)\n",
    "A_sum_axis0,A_sum_axis0.shape"
   ],
   "metadata": {
    "collapsed": false,
    "ExecuteTime": {
     "end_time": "2024-10-11T05:07:12.206362500Z",
     "start_time": "2024-10-11T05:07:12.180422400Z"
    }
   },
   "id": "e2709d3f18aca0fa",
   "execution_count": 16
  },
  {
   "cell_type": "code",
   "outputs": [
    {
     "data": {
      "text/plain": "(tensor([ 6., 22., 38., 54., 70.]), torch.Size([5]))"
     },
     "execution_count": 17,
     "metadata": {},
     "output_type": "execute_result"
    }
   ],
   "source": [
    "A_sum_axis1=A.sum(dim=1)\n",
    "A_sum_axis1,A_sum_axis1.shape"
   ],
   "metadata": {
    "collapsed": false,
    "ExecuteTime": {
     "end_time": "2024-10-11T05:07:12.212394900Z",
     "start_time": "2024-10-11T05:07:12.194882700Z"
    }
   },
   "id": "a663f0ced37d0200",
   "execution_count": 17
  },
  {
   "cell_type": "code",
   "outputs": [
    {
     "data": {
      "text/plain": "tensor(190.)"
     },
     "execution_count": 18,
     "metadata": {},
     "output_type": "execute_result"
    }
   ],
   "source": [
    "A.sum(dim=[0,1])   # 等价于A.sum()"
   ],
   "metadata": {
    "collapsed": false,
    "ExecuteTime": {
     "end_time": "2024-10-11T05:07:12.237567800Z",
     "start_time": "2024-10-11T05:07:12.212394900Z"
    }
   },
   "id": "f1ba5d2a6e3fc0cd",
   "execution_count": 18
  },
  {
   "cell_type": "code",
   "outputs": [
    {
     "data": {
      "text/plain": "(tensor(9.5000), tensor(9.5000))"
     },
     "execution_count": 19,
     "metadata": {},
     "output_type": "execute_result"
    }
   ],
   "source": [
    "A.mean(),A.sum()/A.numel()"
   ],
   "metadata": {
    "collapsed": false,
    "ExecuteTime": {
     "end_time": "2024-10-11T05:07:12.243591100Z",
     "start_time": "2024-10-11T05:07:12.226953400Z"
    }
   },
   "id": "240788f961a7ad9a",
   "execution_count": 19
  },
  {
   "cell_type": "code",
   "outputs": [
    {
     "data": {
      "text/plain": "(tensor([ 8.,  9., 10., 11.]), tensor([ 8.,  9., 10., 11.]))"
     },
     "execution_count": 20,
     "metadata": {},
     "output_type": "execute_result"
    }
   ],
   "source": [
    "A.mean(dim=0),A.sum(dim=0)/A.shape[0]"
   ],
   "metadata": {
    "collapsed": false,
    "ExecuteTime": {
     "end_time": "2024-10-11T05:07:12.261279100Z",
     "start_time": "2024-10-11T05:07:12.241596100Z"
    }
   },
   "id": "6fb7ba8d938018fd",
   "execution_count": 20
  },
  {
   "cell_type": "code",
   "outputs": [
    {
     "data": {
      "text/plain": "tensor([[ 6.],\n        [22.],\n        [38.],\n        [54.],\n        [70.]])"
     },
     "execution_count": 21,
     "metadata": {},
     "output_type": "execute_result"
    }
   ],
   "source": [
    "sum_A=A.sum(dim=1,keepdim=True)\n",
    "sum_A"
   ],
   "metadata": {
    "collapsed": false,
    "ExecuteTime": {
     "end_time": "2024-10-11T05:07:12.273758500Z",
     "start_time": "2024-10-11T05:07:12.256755400Z"
    }
   },
   "id": "58895e2eaa7c738a",
   "execution_count": 21
  },
  {
   "cell_type": "code",
   "outputs": [
    {
     "data": {
      "text/plain": "tensor([[0.0000, 0.1667, 0.3333, 0.5000],\n        [0.1818, 0.2273, 0.2727, 0.3182],\n        [0.2105, 0.2368, 0.2632, 0.2895],\n        [0.2222, 0.2407, 0.2593, 0.2778],\n        [0.2286, 0.2429, 0.2571, 0.2714]])"
     },
     "execution_count": 22,
     "metadata": {},
     "output_type": "execute_result"
    }
   ],
   "source": [
    "A/sum_A"
   ],
   "metadata": {
    "collapsed": false,
    "ExecuteTime": {
     "end_time": "2024-10-11T05:07:12.291586600Z",
     "start_time": "2024-10-11T05:07:12.271765300Z"
    }
   },
   "id": "6bf8181edcd100d3",
   "execution_count": 22
  },
  {
   "cell_type": "code",
   "outputs": [
    {
     "data": {
      "text/plain": "tensor([[ 0.,  1.,  2.,  3.],\n        [ 4.,  6.,  8., 10.],\n        [12., 15., 18., 21.],\n        [24., 28., 32., 36.],\n        [40., 45., 50., 55.]])"
     },
     "execution_count": 23,
     "metadata": {},
     "output_type": "execute_result"
    }
   ],
   "source": [
    "A.cumsum(dim=0)"
   ],
   "metadata": {
    "collapsed": false,
    "ExecuteTime": {
     "end_time": "2024-10-11T05:07:12.303543700Z",
     "start_time": "2024-10-11T05:07:12.287672700Z"
    }
   },
   "id": "907a5fef454606fa",
   "execution_count": 23
  },
  {
   "cell_type": "markdown",
   "source": [
    "## 2.3.7点积"
   ],
   "metadata": {
    "collapsed": false
   },
   "id": "41561ba948f8dd18"
  },
  {
   "cell_type": "code",
   "outputs": [
    {
     "data": {
      "text/plain": "(tensor([0., 1., 2., 3.]), tensor([1., 1., 1., 1.]), tensor(6.))"
     },
     "execution_count": 24,
     "metadata": {},
     "output_type": "execute_result"
    }
   ],
   "source": [
    "y=torch.ones(4,dtype=torch.float32)\n",
    "x,y,torch.dot(x,y)"
   ],
   "metadata": {
    "collapsed": false,
    "ExecuteTime": {
     "end_time": "2024-10-11T05:07:12.324501200Z",
     "start_time": "2024-10-11T05:07:12.304540400Z"
    }
   },
   "id": "5fb6f6b86b32db2b",
   "execution_count": 24
  },
  {
   "cell_type": "code",
   "outputs": [
    {
     "data": {
      "text/plain": "tensor(6.)"
     },
     "execution_count": 25,
     "metadata": {},
     "output_type": "execute_result"
    }
   ],
   "source": [
    "torch.sum(x*y)"
   ],
   "metadata": {
    "collapsed": false,
    "ExecuteTime": {
     "end_time": "2024-10-11T05:07:12.333085600Z",
     "start_time": "2024-10-11T05:07:12.319411800Z"
    }
   },
   "id": "7686282a2121924b",
   "execution_count": 25
  },
  {
   "cell_type": "markdown",
   "source": [
    "## 2.3.8矩阵-向量积"
   ],
   "metadata": {
    "collapsed": false
   },
   "id": "ce1358bd26fbad8"
  },
  {
   "cell_type": "code",
   "outputs": [
    {
     "data": {
      "text/plain": "(torch.Size([5, 4]), torch.Size([4]), tensor([ 14.,  38.,  62.,  86., 110.]))"
     },
     "execution_count": 26,
     "metadata": {},
     "output_type": "execute_result"
    }
   ],
   "source": [
    "A.shape,x.shape,torch.mv(A,x)"
   ],
   "metadata": {
    "collapsed": false,
    "ExecuteTime": {
     "end_time": "2024-10-11T05:07:12.353071300Z",
     "start_time": "2024-10-11T05:07:12.335078700Z"
    }
   },
   "id": "74103eb4d8633c4a",
   "execution_count": 26
  },
  {
   "cell_type": "markdown",
   "source": [
    "## 2.3.9矩阵乘法"
   ],
   "metadata": {
    "collapsed": false
   },
   "id": "6ff8a49f1b8a696a"
  },
  {
   "cell_type": "code",
   "outputs": [
    {
     "data": {
      "text/plain": "tensor([[ 6.,  6.,  6.],\n        [22., 22., 22.],\n        [38., 38., 38.],\n        [54., 54., 54.],\n        [70., 70., 70.]])"
     },
     "execution_count": 27,
     "metadata": {},
     "output_type": "execute_result"
    }
   ],
   "source": [
    "B=torch.ones(4,3)\n",
    "torch.mm(A,B)"
   ],
   "metadata": {
    "collapsed": false,
    "ExecuteTime": {
     "end_time": "2024-10-11T05:07:12.364568700Z",
     "start_time": "2024-10-11T05:07:12.350077900Z"
    }
   },
   "id": "7552257dad048f8e",
   "execution_count": 27
  },
  {
   "cell_type": "markdown",
   "source": [
    "## 2.3.10范数"
   ],
   "metadata": {
    "collapsed": false
   },
   "id": "f55efd5f034a4e0c"
  },
  {
   "cell_type": "code",
   "outputs": [
    {
     "data": {
      "text/plain": "tensor(5.)"
     },
     "execution_count": 28,
     "metadata": {},
     "output_type": "execute_result"
    }
   ],
   "source": [
    "u=torch.tensor([3.0,-4.0])\n",
    "torch.norm(u)"
   ],
   "metadata": {
    "collapsed": false,
    "ExecuteTime": {
     "end_time": "2024-10-11T05:07:12.389591700Z",
     "start_time": "2024-10-11T05:07:12.365565100Z"
    }
   },
   "id": "c72de0ad76c91c47",
   "execution_count": 28
  },
  {
   "cell_type": "code",
   "outputs": [
    {
     "data": {
      "text/plain": "tensor(7.)"
     },
     "execution_count": 29,
     "metadata": {},
     "output_type": "execute_result"
    }
   ],
   "source": [
    "torch.abs(u).sum()"
   ],
   "metadata": {
    "collapsed": false,
    "ExecuteTime": {
     "end_time": "2024-10-11T05:07:12.397843400Z",
     "start_time": "2024-10-11T05:07:12.381598600Z"
    }
   },
   "id": "7fd501567f4e0f38",
   "execution_count": 29
  },
  {
   "cell_type": "code",
   "outputs": [
    {
     "data": {
      "text/plain": "tensor(6.)"
     },
     "execution_count": 30,
     "metadata": {},
     "output_type": "execute_result"
    }
   ],
   "source": [
    "torch.norm(torch.ones((4,9)))"
   ],
   "metadata": {
    "collapsed": false,
    "ExecuteTime": {
     "end_time": "2024-10-11T05:07:12.427755500Z",
     "start_time": "2024-10-11T05:07:12.396846400Z"
    }
   },
   "id": "55e64d57ec4467b3",
   "execution_count": 30
  }
 ],
 "metadata": {
  "kernelspec": {
   "display_name": "Python 3",
   "language": "python",
   "name": "python3"
  },
  "language_info": {
   "codemirror_mode": {
    "name": "ipython",
    "version": 2
   },
   "file_extension": ".py",
   "mimetype": "text/x-python",
   "name": "python",
   "nbconvert_exporter": "python",
   "pygments_lexer": "ipython2",
   "version": "2.7.6"
  }
 },
 "nbformat": 4,
 "nbformat_minor": 5
}
